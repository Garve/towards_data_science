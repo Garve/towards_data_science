{
 "cells": [
  {
   "cell_type": "code",
   "execution_count": null,
   "metadata": {},
   "outputs": [],
   "source": [
    "#!pip install tensorflow-datasets tensorflow"
   ]
  },
  {
   "cell_type": "code",
   "execution_count": null,
   "metadata": {},
   "outputs": [],
   "source": [
    "import tensorflow_datasets as tfds\n",
    "import tensorflow as tf"
   ]
  },
  {
   "cell_type": "code",
   "execution_count": null,
   "metadata": {},
   "outputs": [],
   "source": [
    "data = tfds.load(\"movielens/1m-ratings\")\n",
    "\n",
    "df = tfds.as_dataframe(data[\"train\"])\n",
    "df.head(5)"
   ]
  },
  {
   "cell_type": "code",
   "execution_count": null,
   "metadata": {},
   "outputs": [],
   "source": [
    "filtered_data = (\n",
    "    df.filter([\"timestamp\", \"user_id\", \"movie_id\", \"user_rating\"])\n",
    "    .sort_values(\"timestamp\")\n",
    "    .astype({\"user_id\": int, \"movie_id\": int, \"user_rating\": int})\n",
    "    .drop(columns=[\"timestamp\"])\n",
    ")\n",
    "\n",
    "train = filtered_data.iloc[:900000]\n",
    "test = filtered_data.iloc[900000:]"
   ]
  },
  {
   "cell_type": "code",
   "execution_count": null,
   "metadata": {},
   "outputs": [],
   "source": [
    "filtered_data"
   ]
  },
  {
   "cell_type": "code",
   "execution_count": null,
   "metadata": {},
   "outputs": [],
   "source": [
    "print(train.query(\"user_id == 1\").shape[0])\n",
    "print(test.query(\"user_id == 1\").shape[0])"
   ]
  },
  {
   "cell_type": "code",
   "execution_count": null,
   "metadata": {},
   "outputs": [],
   "source": [
    "X_train = train.drop(columns=[\"user_rating\"])\n",
    "y_train = train[\"user_rating\"]\n",
    "X_test = test.drop(columns=[\"user_rating\"])\n",
    "y_test = test[\"user_rating\"]"
   ]
  },
  {
   "cell_type": "code",
   "execution_count": null,
   "metadata": {},
   "outputs": [],
   "source": [
    "from sklearn.ensemble import HistGradientBoostingRegressor\n",
    "from sklearn.metrics import mean_absolute_error, r2_score\n",
    "\n",
    "hgb = HistGradientBoostingRegressor(random_state=0)\n",
    "hgb.fit(X_train, y_train)\n",
    "print(hgb.score(X_test, y_test), mean_absolute_error(y_test, hgb.predict(X_test)))"
   ]
  },
  {
   "cell_type": "code",
   "execution_count": null,
   "metadata": {},
   "outputs": [],
   "source": [
    "all_users = train[\"user_id\"].unique()\n",
    "all_movies = train[\"movie_id\"].unique()"
   ]
  },
  {
   "cell_type": "markdown",
   "metadata": {},
   "source": [
    "# First version"
   ]
  },
  {
   "cell_type": "code",
   "execution_count": null,
   "metadata": {},
   "outputs": [],
   "source": [
    "user_input = tf.keras.layers.Input(shape=(1,), name=\"user\")\n",
    "user_as_integer = tf.keras.layers.IntegerLookup(vocabulary=all_users)(user_input)\n",
    "user_embedding = tf.keras.layers.Embedding(input_dim=len(all_users) + 1, output_dim=32)(user_as_integer)\n",
    "\n",
    "movie_input = tf.keras.layers.Input(shape=(1,), name=\"movie\")\n",
    "movie_as_integer = tf.keras.layers.IntegerLookup(vocabulary=all_movies)(movie_input)\n",
    "movie_embedding = tf.keras.layers.Embedding(input_dim=len(all_movies) + 1, output_dim=32)(movie_as_integer)\n",
    "\n",
    "dot = tf.keras.layers.Dot(axes=2)([user_embedding, movie_embedding])\n",
    "flatten = tf.keras.layers.Flatten()(dot)\n",
    "\n",
    "model = tf.keras.Model(inputs=[user_input, movie_input], outputs=flatten)\n",
    "\n",
    "model.compile(loss=\"mse\", metrics=[tf.keras.metrics.MeanAbsoluteError()])"
   ]
  },
  {
   "cell_type": "markdown",
   "metadata": {},
   "source": [
    "# Second version"
   ]
  },
  {
   "cell_type": "code",
   "execution_count": null,
   "metadata": {},
   "outputs": [],
   "source": [
    "user_input = tf.keras.layers.Input(shape=(1,), name=\"user\")\n",
    "user_as_integer = tf.keras.layers.IntegerLookup(vocabulary=all_users)(user_input)\n",
    "user_embedding = tf.keras.layers.Embedding(input_dim=len(all_users) + 1, output_dim=32)(user_as_integer)\n",
    "\n",
    "movie_input = tf.keras.layers.Input(shape=(1,), name=\"movie\")\n",
    "movie_as_integer = tf.keras.layers.IntegerLookup(vocabulary=all_movies)(movie_input)\n",
    "movie_embedding = tf.keras.layers.Embedding(input_dim=len(all_movies) + 1, output_dim=32)(movie_as_integer)\n",
    "\n",
    "dot = tf.keras.layers.Dot(axes=2)([user_embedding, movie_embedding])\n",
    "flatten = tf.keras.layers.Flatten()(dot)\n",
    "squash = tf.keras.layers.Lambda(lambda x: 4 * tf.nn.sigmoid(x) + 1)(flatten)\n",
    "\n",
    "model = tf.keras.Model(inputs=[user_input, movie_input], outputs=squash)\n",
    "\n",
    "model.compile(loss=\"mse\", metrics=[tf.keras.metrics.MeanAbsoluteError()])"
   ]
  },
  {
   "cell_type": "markdown",
   "metadata": {},
   "source": [
    "# Final version"
   ]
  },
  {
   "cell_type": "code",
   "execution_count": null,
   "metadata": {},
   "outputs": [],
   "source": [
    "user_input = tf.keras.layers.Input(shape=(1,), name=\"user\")\n",
    "user_as_integer = tf.keras.layers.IntegerLookup(vocabulary=all_users, name=\"user_as_integer\")(user_input)\n",
    "user_embedding = tf.keras.layers.Embedding(input_dim=len(all_users) + 1, output_dim=32, name=\"user_embedding\")(user_as_integer)\n",
    "user_bias = tf.keras.layers.Embedding(input_dim=len(all_users) + 1, output_dim=1, name=\"user_bias\")(user_as_integer)\n",
    "\n",
    "movie_input = tf.keras.layers.Input(shape=(1,), name=\"movie\")\n",
    "movie_as_integer = tf.keras.layers.IntegerLookup(vocabulary=all_movies, name=\"movie_as_integer\")(movie_input)\n",
    "movie_embedding = tf.keras.layers.Embedding(input_dim=len(all_movies) + 1, output_dim=32, name=\"movie_embedding\")(movie_as_integer)\n",
    "movie_bias = tf.keras.layers.Embedding(input_dim=len(all_movies) + 1, output_dim=1, name=\"movie_bias\")(movie_as_integer)\n",
    "\n",
    "dot = tf.keras.layers.Dot(axes=2, name=\"dot_product\")([user_embedding, movie_embedding])\n",
    "add = tf.keras.layers.Add(name=\"sum\")([dot, user_bias, movie_bias])\n",
    "flatten = tf.keras.layers.Flatten(name=\"flatten\")(add)\n",
    "squash = tf.keras.layers.Lambda(lambda x: 4 * tf.nn.sigmoid(x) + 1, name=\"squash\")(flatten)\n",
    "\n",
    "model = tf.keras.Model(inputs=[user_input, movie_input], outputs=squash)\n",
    "\n",
    "model.compile(loss=\"mse\", metrics=[tf.keras.metrics.MeanAbsoluteError()])"
   ]
  },
  {
   "cell_type": "code",
   "execution_count": null,
   "metadata": {},
   "outputs": [],
   "source": [
    "tf.keras.utils.plot_model(model, show_shapes=True)"
   ]
  },
  {
   "cell_type": "code",
   "execution_count": null,
   "metadata": {},
   "outputs": [],
   "source": [
    "model.fit(\n",
    "    x={\"user\": X_train[\"user_id\"], \"movie\": X_train[\"movie_id\"]},\n",
    "    y=y_train.values,\n",
    "    batch_size=256,\n",
    "    epochs=100,\n",
    "    validation_split=0.1,\n",
    "    callbacks=[tf.keras.callbacks.EarlyStopping(patience=1, restore_best_weights=True)],\n",
    ")"
   ]
  },
  {
   "cell_type": "code",
   "execution_count": null,
   "metadata": {},
   "outputs": [],
   "source": [
    "model.evaluate(x={\"user\": X_test[\"user_id\"], \"movie\": X_test[\"movie_id\"]}, y=y_test)"
   ]
  },
  {
   "cell_type": "code",
   "execution_count": null,
   "metadata": {},
   "outputs": [],
   "source": [
    "from sklearn.metrics import r2_score\n",
    "\n",
    "r2_score(\n",
    "    y_test,\n",
    "    model.predict({\"user\": X_test[\"user_id\"], \"movie\": X_test[\"movie_id\"]}).ravel(),\n",
    ")"
   ]
  },
  {
   "cell_type": "code",
   "execution_count": null,
   "metadata": {},
   "outputs": [],
   "source": []
  }
 ],
 "metadata": {
  "kernelspec": {
   "display_name": "Python 3",
   "language": "python",
   "name": "python3"
  },
  "language_info": {
   "codemirror_mode": {
    "name": "ipython",
    "version": 3
   },
   "file_extension": ".py",
   "mimetype": "text/x-python",
   "name": "python",
   "nbconvert_exporter": "python",
   "pygments_lexer": "ipython3",
   "version": "3.9.9"
  },
  "vscode": {
   "interpreter": {
    "hash": "67783390838d2e02912aac04d405c75735cc05868bfeaabbe6ec2bbdb2e2542d"
   }
  }
 },
 "nbformat": 4,
 "nbformat_minor": 4
}
