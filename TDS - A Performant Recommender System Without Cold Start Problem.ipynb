{
 "cells": [
  {
   "cell_type": "code",
   "execution_count": null,
   "metadata": {},
   "outputs": [],
   "source": [
    "#!pip install tensorflow-datasets tensorflow"
   ]
  },
  {
   "cell_type": "code",
   "execution_count": null,
   "metadata": {},
   "outputs": [],
   "source": [
    "import tensorflow_datasets as tfds\n",
    "import tensorflow as tf"
   ]
  },
  {
   "cell_type": "code",
   "execution_count": null,
   "metadata": {},
   "outputs": [],
   "source": [
    "data = tfds.load(\"movielens/1m-ratings\")\n",
    "\n",
    "df = tfds.as_dataframe(data[\"train\"])\n",
    "df.head(5)"
   ]
  },
  {
   "cell_type": "code",
   "execution_count": null,
   "metadata": {},
   "outputs": [],
   "source": [
    "filtered_data = (\n",
    "    df.sort_values(\"timestamp\")\n",
    "    .astype(\n",
    "        {\n",
    "            \"bucketized_user_age\": int,\n",
    "            \"movie_id\": int,\n",
    "            \"movie_title\": str,\n",
    "            \"user_gender\": int,\n",
    "            \"user_id\": int,\n",
    "            \"user_occupation_label\": int,\n",
    "            \"user_occupation_text\": str,\n",
    "            \"user_rating\": int,\n",
    "            \"user_zip_code\": str,\n",
    "        }\n",
    "    )\n",
    "    .drop(columns=[\"timestamp\"])\n",
    ")"
   ]
  },
  {
   "cell_type": "code",
   "execution_count": null,
   "metadata": {},
   "outputs": [],
   "source": [
    "# temporal split\n",
    "train = filtered_data.iloc[:80000]\n",
    "evaluation = filtered_data.iloc[80000:90000]\n",
    "test = filtered_data.iloc[90000:]"
   ]
  },
  {
   "cell_type": "code",
   "execution_count": null,
   "metadata": {},
   "outputs": [],
   "source": [
    "# induce cold start problem\n",
    "train = filtered_data.query(\"user_id >= 2000\")\n",
    "evaluation = filtered_data.query(\"1000 <= user_id < 2000\")\n",
    "test = filtered_data.query(\"user_id < 1000\")"
   ]
  },
  {
   "cell_type": "code",
   "execution_count": null,
   "metadata": {},
   "outputs": [],
   "source": [
    "X_train = train.drop(columns=[\"user_rating\"])\n",
    "y_train = train[\"user_rating\"]\n",
    "X_eval = evaluation.drop(columns=[\"user_rating\"])\n",
    "y_eval = evaluation[\"user_rating\"]\n",
    "X_test = test.drop(columns=[\"user_rating\"])\n",
    "y_test = test[\"user_rating\"]"
   ]
  },
  {
   "cell_type": "code",
   "execution_count": null,
   "metadata": {},
   "outputs": [],
   "source": [
    "features_config = {\n",
    "    \"user_id\": {\"entity\": \"user\", \"dtype\": tf.int64},\n",
    "    \"bucketized_user_age\": {\"entity\": \"user\", \"dtype\": tf.int64},\n",
    "    \"user_gender\": {\"entity\": \"user\", \"dtype\": tf.int64},\n",
    "    \"user_occupation_label\": {\"entity\": \"user\", \"dtype\": tf.int64},\n",
    "    \"movie_id\": {\"entity\": \"movie\", \"dtype\": tf.int64},\n",
    "    \"user_zip_code\": {\"entity\": \"user\", \"dtype\": tf.string},\n",
    "    \"user_occupation_text\": {\"entity\": \"user\", \"dtype\": tf.string},\n",
    "}\n",
    "\n",
    "for name, config in features_config.items():\n",
    "    if config[\"dtype\"] == tf.int64:\n",
    "        config[\"encoding_layer_class\"] = tf.keras.layers.IntegerLookup\n",
    "    elif config[\"dtype\"] == tf.string:\n",
    "        config[\"encoding_layer_class\"] = tf.keras.layers.StringLookup\n",
    "    else:\n",
    "        raise Exception\n",
    "\n",
    "    config[\"vocab\"] = train[name].unique()\n",
    "\n",
    "\n",
    "inputs = {\n",
    "    name: tf.keras.layers.Input(shape=(1,), name=name, dtype=config[\"dtype\"])\n",
    "    for name, config in features_config.items()\n",
    "}\n",
    "\n",
    "inputs_encoded = {\n",
    "    name: config[\"encoding_layer_class\"](vocabulary=config[\"vocab\"])(inputs[name])\n",
    "    for name, config in features_config.items()\n",
    "}\n",
    "\n",
    "embeddings = {\n",
    "    name: tf.keras.layers.Embedding(\n",
    "        input_dim=len(config[\"vocab\"]) + 1,\n",
    "        output_dim=32,\n",
    "    )(inputs_encoded[name])\n",
    "    for name, config in features_config.items()\n",
    "}\n",
    "\n",
    "biases = {\n",
    "    name: tf.keras.layers.Embedding(input_dim=len(config[\"vocab\"]) + 1, output_dim=1)(\n",
    "        inputs_encoded[name]\n",
    "    )\n",
    "    for name, config in features_config.items()\n",
    "}\n",
    "\n",
    "user_embedding = tf.keras.layers.Add()(\n",
    "    [\n",
    "        embeddings[name]\n",
    "        for name, config in features_config.items()\n",
    "        if config[\"entity\"] == \"user\"\n",
    "    ]\n",
    ")\n",
    "\n",
    "# movie genres\n",
    "all_movie_genres = train[\"movie_genres\"].explode().unique().astype(int)\n",
    "movie_genres_input = tf.keras.layers.Input(shape=(None,), name=\"movie_genres\")\n",
    "movie_genres_as_integer = tf.keras.layers.IntegerLookup(vocabulary=all_movie_genres)(movie_genres_input)\n",
    "movie_genres_embeddings = tf.keras.layers.Embedding(input_dim=len(all_movie_genres) + 1, output_dim=32)(movie_genres_as_integer)\n",
    "movie_genres_biases = tf.keras.layers.Embedding(input_dim=len(all_movie_genres) + 1, output_dim=1)(movie_genres_as_integer)\n",
    "movie_genres_embedding = tf.keras.layers.GlobalAveragePooling1D(keepdims=True)(movie_genres_embeddings)\n",
    "movie_genres_bias = tf.keras.layers.GlobalAveragePooling1D(keepdims=True)(movie_genres_biases)\n",
    "\n",
    "movie_embedding = tf.keras.layers.Add()(\n",
    "    [\n",
    "        embeddings[name]\n",
    "        for name, config in features_config.items()\n",
    "        if config[\"entity\"] == \"movie\"\n",
    "    ] + [movie_genres_embedding]\n",
    ")\n",
    "\n",
    "user_bias = tf.keras.layers.Add()(\n",
    "    [\n",
    "        biases[name]\n",
    "        for name, config in features_config.items()\n",
    "        if config[\"entity\"] == \"user\"\n",
    "    ]\n",
    ")\n",
    "\n",
    "movie_bias = tf.keras.layers.Add()(\n",
    "    [\n",
    "        biases[name]\n",
    "        for name, config in features_config.items()\n",
    "        if config[\"entity\"] == \"movie\"\n",
    "    ] + [movie_genres_bias]\n",
    ")\n",
    "\n",
    "dot = tf.keras.layers.Dot(axes=2)([user_embedding, movie_embedding])\n",
    "add = tf.keras.layers.Add()([dot, user_bias, movie_bias])\n",
    "flatten = tf.keras.layers.Flatten()(add)\n",
    "squash = tf.keras.layers.Lambda(lambda x: 4 * tf.nn.sigmoid(x) + 1)(flatten)\n",
    "\n",
    "model = tf.keras.Model(\n",
    "    inputs=[inputs[name] for name in features_config.keys()] + [movie_genres_input], outputs=squash\n",
    ")\n",
    "\n",
    "model.compile(loss=\"mse\", metrics=[tf.keras.metrics.MeanAbsoluteError()])"
   ]
  },
  {
   "cell_type": "code",
   "execution_count": null,
   "metadata": {},
   "outputs": [],
   "source": [
    "model.fit(\n",
    "    x={**{name: X_train[name].values for name in features_config.keys()}, \"movie_genres\": tf.ragged.constant(X_train[\"movie_genres\"].values)},\n",
    "    y=y_train.values,\n",
    "    batch_size=256,\n",
    "    epochs=100,\n",
    "    validation_data=(\n",
    "        {**{name: X_eval[name].values for name in features_config.keys()}, \"movie_genres\": tf.ragged.constant(X_eval[\"movie_genres\"].values)},\n",
    "        y_eval.values,\n",
    "    ),\n",
    "    callbacks=[tf.keras.callbacks.EarlyStopping(patience=1, restore_best_weights=True)],\n",
    ")"
   ]
  },
  {
   "cell_type": "code",
   "execution_count": null,
   "metadata": {},
   "outputs": [],
   "source": [
    "model.evaluate(\n",
    "    x={**{name: X_test[name].values for name in features_config.keys()}, \"movie_genres\": tf.ragged.constant(X_test[\"movie_genres\"].values)},\n",
    "    y=y_test.values,\n",
    "    batch_size=1_000_000,\n",
    ")"
   ]
  },
  {
   "cell_type": "code",
   "execution_count": null,
   "metadata": {},
   "outputs": [],
   "source": []
  }
 ],
 "metadata": {
  "kernelspec": {
   "display_name": "Python 3",
   "language": "python",
   "name": "python3"
  },
  "language_info": {
   "codemirror_mode": {
    "name": "ipython",
    "version": 3
   },
   "file_extension": ".py",
   "mimetype": "text/x-python",
   "name": "python",
   "nbconvert_exporter": "python",
   "pygments_lexer": "ipython3",
   "version": "3.9.9"
  },
  "vscode": {
   "interpreter": {
    "hash": "67783390838d2e02912aac04d405c75735cc05868bfeaabbe6ec2bbdb2e2542d"
   }
  }
 },
 "nbformat": 4,
 "nbformat_minor": 4
}
