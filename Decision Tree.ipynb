{
 "cells": [
  {
   "cell_type": "code",
   "execution_count": 24,
   "id": "924f5e8c-40d2-4297-8b13-fca211a98a20",
   "metadata": {},
   "outputs": [],
   "source": [
    "from dataclasses import dataclass\n",
    "\n",
    "@dataclass\n",
    "class Node:\n",
    "    feature: int = None\n",
    "    value: float = None\n",
    "    left: np.array = None\n",
    "    right: np.array = None"
   ]
  },
  {
   "cell_type": "code",
   "execution_count": 25,
   "id": "c4beb19d-8b01-44af-8455-d1357a855090",
   "metadata": {},
   "outputs": [],
   "source": [
    "import numpy as np\n",
    "from sklearn.base import BaseEstimator, ClassifierMixin\n",
    "\n",
    "\n",
    "class DecisionTreeClassifier(BaseEstimator, ClassifierMixin):\n",
    "    def __init__(self):\n",
    "        self.root = Node()\n",
    "\n",
    "    @staticmethod\n",
    "    def _gini(y):\n",
    "        \"\"\"Gini impurity.\"\"\"\n",
    "        counts = np.bincount(y)\n",
    "        p = counts / counts.sum()\n",
    "\n",
    "        return (p*(1-p)).sum()\n",
    "\n",
    "    def _split(self, X, y):\n",
    "        \"\"\"Bruteforce search over all features and splitting points.\"\"\"\n",
    "        best_information_gain = float(\"-inf\")\n",
    "        best_feature = None\n",
    "        best_split = None\n",
    "\n",
    "        for feature in range(X.shape[1]):\n",
    "            split_candidates = np.unique(X[:, feature])\n",
    "            for split in split_candidates:\n",
    "                left_mask = X[:, feature] < split\n",
    "                X_left, y_left = X[left_mask], y[left_mask]\n",
    "                X_right, y_right = X[~left_mask], y[~left_mask]\n",
    "\n",
    "                information_gain = self._gini(y) - (\n",
    "                    len(X_left) / len(X) * self._gini(y_left)\n",
    "                    + len(X_right) / len(X) * self._gini(y_right)\n",
    "                )\n",
    "\n",
    "                if information_gain > best_information_gain:\n",
    "                    best_information_gain = information_gain\n",
    "                    best_feature = feature\n",
    "                    best_split = split\n",
    "\n",
    "        return best_feature, best_split\n",
    "\n",
    "    def _build_tree(self, X, y):\n",
    "        \"\"\"The heavy lifting.\"\"\"\n",
    "        feature, split = self._split(X, y)\n",
    "\n",
    "        left_mask = X[:, feature] < split\n",
    "\n",
    "        X_left, y_left = X[left_mask], y[left_mask]\n",
    "        X_right, y_right = X[~left_mask], y[~left_mask]\n",
    "\n",
    "        if len(X_left) == 0 or len(X_right) == 0:\n",
    "            return Node(value=np.argmax(np.bincount(y)))\n",
    "        else:\n",
    "            return Node(\n",
    "                feature,\n",
    "                split,\n",
    "                self._build_tree(X_left, y_left),\n",
    "                self._build_tree(X_right, y_right),\n",
    "            )\n",
    "\n",
    "    def _find_path(self, x, node):\n",
    "        \"\"\"Given a data point x, walk from the root to the corresponding leaf node.\"\"\"\n",
    "        if node.feature == None:\n",
    "            return node.value\n",
    "        else:\n",
    "            if x[node.feature] < node.value:\n",
    "                return self._find_path(x, node.left)\n",
    "            else:\n",
    "                return self._find_path(x, node.right)\n",
    "\n",
    "    def fit(self, X, y):\n",
    "        self.root = self._build_tree(X, y)\n",
    "        return self\n",
    "\n",
    "    def predict(self, X):\n",
    "        return np.array([self._find_path(x, self.root) for x in X])\n"
   ]
  },
  {
   "cell_type": "code",
   "execution_count": 120,
   "id": "202cc9a3-733b-4f10-a903-34e5b2f5ce2c",
   "metadata": {},
   "outputs": [],
   "source": [
    "np.random.seed(0)\n",
    "\n",
    "X = np.random.randn(100, 2)\n",
    "y = ((X[:, 0] > 0) * (X[:, 1] < 0))"
   ]
  },
  {
   "cell_type": "code",
   "execution_count": 121,
   "id": "73d3bfee-3443-4f76-8500-bbdd1bc21677",
   "metadata": {},
   "outputs": [],
   "source": [
    "dt = DecisionTreeClassifier().fit(X, y)"
   ]
  },
  {
   "cell_type": "code",
   "execution_count": 122,
   "id": "0f1eb2f5-9856-45e2-b2b1-1a8a753822bd",
   "metadata": {},
   "outputs": [
    {
     "data": {
      "text/plain": [
       "1.0"
      ]
     },
     "execution_count": 122,
     "metadata": {},
     "output_type": "execute_result"
    }
   ],
   "source": [
    "dt.score(X, y)"
   ]
  },
  {
   "cell_type": "code",
   "execution_count": 123,
   "id": "4205cc4c-73b8-4d0b-bc48-654ff5122d19",
   "metadata": {},
   "outputs": [
    {
     "data": {
      "text/plain": [
       "Node(feature=1, value=-0.14963454032767076, left=Node(feature=0, value=0.04575851730144607, left=Node(feature=None, value=0, left=None, right=None), right=Node(feature=None, value=1, left=None, right=None)), right=Node(feature=None, value=0, left=None, right=None))"
      ]
     },
     "execution_count": 123,
     "metadata": {},
     "output_type": "execute_result"
    }
   ],
   "source": [
    "dt.root"
   ]
  },
  {
   "cell_type": "code",
   "execution_count": 124,
   "id": "3fad41ef-3c09-41dc-b83a-880add2cc72e",
   "metadata": {},
   "outputs": [],
   "source": [
    "import matplotlib.pyplot as plt\n",
    "from mlxtend.plotting import plot_decision_regions\n",
    "\n",
    "plt.style.use(\"default\")\n",
    "\n",
    "X = np.random.uniform(0, 1, size=(50, 2))\n",
    "y = np.random.randint(5, size=50)"
   ]
  },
  {
   "cell_type": "code",
   "execution_count": 125,
   "id": "04873f4d-c77e-4dc8-9590-456095f05f75",
   "metadata": {},
   "outputs": [],
   "source": [
    "dt = DecisionTreeClassifier().fit(X, y)"
   ]
  },
  {
   "cell_type": "code",
   "execution_count": 126,
   "id": "e3461308-b917-4f95-8fc4-409eb3d08931",
   "metadata": {},
   "outputs": [
    {
     "name": "stderr",
     "output_type": "stream",
     "text": [
      "c:\\users\\rober\\appdata\\local\\programs\\python\\python39\\lib\\site-packages\\mlxtend\\plotting\\decision_regions.py:300: UserWarning: You passed a edgecolor/edgecolors ('black') for an unfilled marker ('x').  Matplotlib is ignoring the edgecolor in favor of the facecolor.  This behavior may change in the future.\n",
      "  ax.scatter(\n"
     ]
    },
    {
     "data": {
      "text/plain": [
       "(-0.1, 1.1)"
      ]
     },
     "execution_count": 126,
     "metadata": {},
     "output_type": "execute_result"
    },
    {
     "data": {
      "image/png": "[encoded data removed]",
      "text/plain": [
       "<Figure size 1200x800 with 1 Axes>"
      ]
     },
     "metadata": {},
     "output_type": "display_data"
    }
   ],
   "source": [
    "plt.figure(figsize=(12, 8))\n",
    "plot_decision_regions(X, y, clf=dt, legend=0, hide_spines=True)\n",
    "plt.axis(\"off\")\n",
    "plt.xlim(-0.1, 1.1)\n",
    "plt.ylim(-0.1, 1.1)"
   ]
  },
  {
   "cell_type": "code",
   "execution_count": 115,
   "id": "857c56b0-8d34-4585-b014-fc6d631b1386",
   "metadata": {},
   "outputs": [
    {
     "data": {
      "text/plain": [
       "1.0"
      ]
     },
     "execution_count": 115,
     "metadata": {},
     "output_type": "execute_result"
    }
   ],
   "source": [
    "dt.score(X, y)"
   ]
  },
  {
   "cell_type": "code",
   "execution_count": null,
   "id": "44ccf485-7fcb-490b-bd9f-1f66b3764775",
   "metadata": {},
   "outputs": [],
   "source": []
  }
 ],
 "metadata": {
  "kernelspec": {
   "display_name": "Python 3",
   "language": "python",
   "name": "python3"
  },
  "language_info": {
   "codemirror_mode": {
    "name": "ipython",
    "version": 3
   },
   "file_extension": ".py",
   "mimetype": "text/x-python",
   "name": "python",
   "nbconvert_exporter": "python",
   "pygments_lexer": "ipython3",
   "version": "3.9.9"
  }
 },
 "nbformat": 4,
 "nbformat_minor": 5
}
