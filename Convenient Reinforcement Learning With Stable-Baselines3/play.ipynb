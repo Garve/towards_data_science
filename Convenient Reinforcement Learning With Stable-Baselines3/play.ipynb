{
 "cells": [
  {
   "cell_type": "code",
   "execution_count": null,
   "id": "fd52ec4f-d16d-460d-8f9d-e70040ccd7ad",
   "metadata": {
    "tags": []
   },
   "outputs": [],
   "source": [
    "import gymnasium as gym\n",
    "import imageio  # to save an animation of the game\n",
    "from stable_baselines3 import DQN\n",
    "from stable_baselines3.common.atari_wrappers import AtariWrapper\n",
    "from stable_baselines3.common.vec_env import DummyVecEnv, VecFrameStack, VecTransposeImage"
   ]
  },
  {
   "cell_type": "code",
   "execution_count": null,
   "id": "5e64c6e4-9f39-4e57-9e8c-c0a81c198d2e",
   "metadata": {
    "tags": []
   },
   "outputs": [],
   "source": [
    "env_name = \"SpaceInvadersNoFrameskip-v4\"\n",
    "\n",
    "env = gym.make(env_name, render_mode=\"rgb_array\")\n",
    "env = AtariWrapper(env)\n",
    "env = DummyVecEnv([lambda: env])\n",
    "env = VecFrameStack(env, n_stack=4)\n",
    "env = VecTransposeImage(env)\n",
    "\n",
    "model = DQN.load(f\"./logs/{env_name}/best_model.zip\")\n",
    "images = []\n",
    "\n",
    "obs = env.reset()\n",
    "total_reward = 0\n",
    "while True:\n",
    "    action, _ = model.predict(obs)\n",
    "    obs, reward, done, _ = env.step(action)\n",
    "    images.append(env.render())\n",
    "    total_reward += reward\n",
    "    if done:\n",
    "        break\n",
    "\n",
    "env.close()\n",
    "\n",
    "imageio.mimsave(\"./animation.gif\", images, fps=30)\n",
    "print(total_reward)"
   ]
  },
  {
   "cell_type": "code",
   "execution_count": null,
   "id": "a7226698-ea11-4811-bbe2-3096b768e8d0",
   "metadata": {},
   "outputs": [],
   "source": []
  }
 ],
 "metadata": {
  "environment": {
   "kernel": "python3",
   "name": ".m113",
   "type": "gcloud",
   "uri": "gcr.io/deeplearning-platform-release/:m113"
  },
  "kernelspec": {
   "display_name": "Python 3",
   "language": "python",
   "name": "python3"
  },
  "language_info": {
   "codemirror_mode": {
    "name": "ipython",
    "version": 3
   },
   "file_extension": ".py",
   "mimetype": "text/x-python",
   "name": "python",
   "nbconvert_exporter": "python",
   "pygments_lexer": "ipython3",
   "version": "3.10.13"
  }
 },
 "nbformat": 4,
 "nbformat_minor": 5
}
